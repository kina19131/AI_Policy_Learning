{
  "nbformat": 4,
  "nbformat_minor": 0,
  "metadata": {
    "colab": {
      "name": "MP3.ipynb",
      "provenance": [],
      "collapsed_sections": [],
      "authorship_tag": "ABX9TyN/+UkfTd7aqTushgNotTEk",
      "include_colab_link": true
    },
    "kernelspec": {
      "name": "python3",
      "display_name": "Python 3"
    },
    "language_info": {
      "name": "python"
    }
  },
  "cells": [
    {
      "cell_type": "markdown",
      "metadata": {
        "id": "view-in-github",
        "colab_type": "text"
      },
      "source": [
        "<a href=\"https://colab.research.google.com/github/kina19131/ECE324/blob/main/MP3.ipynb\" target=\"_parent\"><img src=\"https://colab.research.google.com/assets/colab-badge.svg\" alt=\"Open In Colab\"/></a>"
      ]
    },
    {
      "cell_type": "code",
      "execution_count": 50,
      "metadata": {
        "id": "P6CAHyJV6btE"
      },
      "outputs": [],
      "source": [
        "from torch.functional import Tensor\n",
        "from __future__ import print_function\n",
        "from collections import defaultdict\n",
        "from itertools import count\n",
        "import numpy as np\n",
        "import math\n",
        "import random\n",
        "import torch\n",
        "import torch.nn as nn\n",
        "import torch.nn.functional as F\n",
        "import torch.optim as optim\n",
        "import torch.distributions\n",
        "from torch.autograd import Variable\n",
        "\n",
        "\n",
        "import matplotlib.pyplot as plt\n",
        "\n",
        "class Environment(object):\n",
        "    \"\"\"\n",
        "    The Tic-Tac-Toe Environment\n",
        "    \"\"\"\n",
        "    # possible ways to win\n",
        "    win_set = frozenset([(0,1,2), (3,4,5), (6,7,8), # horizontal\n",
        "                         (0,3,6), (1,4,7), (2,5,8), # vertical\n",
        "                         (0,4,8), (2,4,6)])         # diagonal\n",
        "    # statuses\n",
        "    STATUS_VALID_MOVE = 'valid'\n",
        "    STATUS_INVALID_MOVE = 'inv'\n",
        "    STATUS_WIN = 'win'\n",
        "    STATUS_TIE = 'tie'\n",
        "    STATUS_LOSE = 'lose'\n",
        "    STATUS_DONE = 'done'\n",
        "\n",
        "    def __init__(self):\n",
        "        self.reset()\n",
        "\n",
        "    def reset(self):\n",
        "        \"\"\"Reset the game to an empty board.\"\"\"\n",
        "        self.grid = np.array([0] * 9) # grid\n",
        "        self.turn = 1                 # whose turn it is\n",
        "        self.done = False             # whether game is done\n",
        "        return self.grid\n",
        "\n",
        "    def render(self):\n",
        "        \"\"\"Print what is on the board.\"\"\"\n",
        "        map = {0:'.', 1:'x', 2:'o'} # grid label vs how to plot\n",
        "        print(''.join(map[i] for i in self.grid[0:3]))\n",
        "        print(''.join(map[i] for i in self.grid[3:6]))\n",
        "        print(''.join(map[i] for i in self.grid[6:9]))\n",
        "        print('====')\n",
        "\n",
        "    def check_win(self):\n",
        "        \"\"\"Check if someone has won the game.\"\"\"\n",
        "        for pos in self.win_set:\n",
        "            s = set([self.grid[p] for p in pos])\n",
        "            if len(s) == 1 and (0 not in s):\n",
        "                return True\n",
        "        return False\n",
        "\n",
        "    def step(self, action):\n",
        "        \"\"\"Mark a point on position action.\"\"\"\n",
        "        ## assert type(action) == int and action >= 0 and action < 9\n",
        "        assert isinstance(action, (int, Tensor)) and action >= 0 and action < 9\n",
        "\n",
        "        # done = already finished the game\n",
        "        if self.done:\n",
        "            return self.grid, self.STATUS_DONE, self.done\n",
        "        # action already have something on it\n",
        "        if self.grid[action] != 0:\n",
        "            return self.grid, self.STATUS_INVALID_MOVE, self.done\n",
        "        # play move\n",
        "        self.grid[action] = self.turn\n",
        "        if self.turn == 1:\n",
        "            self.turn = 2\n",
        "        else:\n",
        "            self.turn = 1\n",
        "        # check win\n",
        "        if self.check_win():\n",
        "            self.done = True\n",
        "            return self.grid, self.STATUS_WIN, self.done\n",
        "        # check tie\n",
        "        if all([p != 0 for p in self.grid]):\n",
        "            self.done = True\n",
        "            return self.grid, self.STATUS_TIE, self.done\n",
        "        return self.grid, self.STATUS_VALID_MOVE, self.done\n",
        "\n",
        "    def random_step(self):\n",
        "        \"\"\"Choose a random, unoccupied move on the board to play.\"\"\"\n",
        "        pos = [i for i in range(9) if self.grid[i] == 0]\n",
        "        move = random.choice(pos)\n",
        "        return self.step(move)\n",
        "\n",
        "    def play_against_random(self, action):\n",
        "        \"\"\"Play a move, and then have a random agent play the next move.\"\"\"\n",
        "        state, status, done = self.step(action)\n",
        "        if not done and self.turn == 2:\n",
        "            state, s2, done = self.random_step()\n",
        "            if done:\n",
        "                if s2 == self.STATUS_WIN:\n",
        "                    status = self.STATUS_LOSE\n",
        "                elif s2 == self.STATUS_TIE:\n",
        "                    status = self.STATUS_TIE\n",
        "                else:\n",
        "                    raise ValueError(\"???\")\n",
        "        return state, status, done\n",
        "\n",
        "class Policy(nn.Module):\n",
        "    \"\"\"\n",
        "    The Tic-Tac-Toe Policy\n",
        "    \"\"\"\n",
        "    def __init__(self, input_size=27, hidden_size=64, output_size=9):\n",
        "        super(Policy, self).__init__()\n",
        "        self.layer = nn.Linear(input_size, hidden_size)\n",
        "        self.output_layer = nn.Linear(hidden_size, output_size)\n",
        "        # TODO\n",
        "        # pass\n",
        "\n",
        "    def forward(self, x):\n",
        "        # TODO\n",
        "        # pass\n",
        "        x = self.layer(x)\n",
        "        x = torch.relu(x)\n",
        "\n",
        "        x = self.output_layer(x) \n",
        "        x = torch.sigmoid(x)\n",
        "        return(x)\n",
        "\n",
        "def select_action(policy, state):\n",
        "    \"\"\"Samples an action from the policy at the state.\"\"\"\n",
        "    state = torch.from_numpy(state).long().unsqueeze(0)\n",
        "    state = torch.zeros(3,9).scatter_(0,state,1).view(1,27)\n",
        "    pr = policy(Variable(state))\n",
        "    m = torch.distributions.Categorical(pr) \n",
        "    action = m.sample()\n",
        "    log_prob = torch.sum(m.log_prob(action))\n",
        "    #return action.data[0], log_prob\n",
        "    return action.data.numpy().tolist()[0], log_prob\n",
        "\n",
        "def compute_returns(rewards, gamma=1.0):\n",
        "    \"\"\"\n",
        "    Compute returns for each time step, given the rewards\n",
        "      @param rewards: list of floats, where rewards[t] is the reward\n",
        "                      obtained at time step t\n",
        "      @param gamma: the discount factor\n",
        "      @returns list of floats representing the episode's returns\n",
        "          G_t = r_t + \\gamma r_{t+1} + \\gamma^2 r_{t+2} + ... \n",
        "\n",
        "    >>> compute_returns([0,0,0,1], 1.0)\n",
        "    [1.0, 1.0, 1.0, 1.0]\n",
        "    >>> compute_returns([0,0,0,1], 0.9)\n",
        "    [0.7290000000000001, 0.81, 0.9, 1.0]\n",
        "    >>> compute_returns([0,-0.5, 5, 0.5,-10], 0.9)\n",
        "    [-2.5965000000000003, -2.8850000000000002, -2.6500000000000004, -8.5, -10.0]\n",
        "    \"\"\"\n",
        "    # TODO\n",
        "    episode_return = [] \n",
        "    G_t = 0\n",
        "    r_t = 0 \n",
        "    rewards.reverse()\n",
        "    for i in range(len(rewards)): \n",
        "      r_t = rewards[i] \n",
        "      if i==0: \n",
        "        G_t = float(r_t)\n",
        "      else:\n",
        "        G_t = r_t + gamma*G_t\n",
        "      episode_return.append(G_t)\n",
        "    \n",
        "    episode_return.reverse()\n",
        "    \n",
        "    return(episode_return)\n",
        "\n",
        "\n",
        "def finish_episode(saved_rewards, saved_logprobs, gamma=1.0):\n",
        "    \"\"\"Samples an action from the policy at the state.\"\"\"\n",
        "    \n",
        "    policy_loss = []\n",
        "    returns = compute_returns(saved_rewards, gamma)\n",
        "    returns = torch.Tensor(returns)\n",
        "    # subtract mean and std for faster training\n",
        "    returns = (returns - returns.mean()) / (returns.std() +\n",
        "                                            np.finfo(np.float32).eps)\n",
        "    for log_prob, reward in zip(saved_logprobs, returns):\n",
        "        #policy_loss.append(-log_prob * reward)\n",
        "        policy_loss.append(-log_prob * reward.view(1, 1))\n",
        "    policy_loss = torch.stack(policy_loss).sum()\n",
        "    policy_loss.backward(retain_graph=True)\n",
        "    # note: retain_graph=True allows for multiple calls to .backward()\n",
        "    # in a single step\n",
        "\n",
        "def get_reward(status):\n",
        "    \"\"\"Returns a numeric given an environment status.\"\"\"\n",
        "    return {\n",
        "            Environment.STATUS_VALID_MOVE  : 0, # TODO\n",
        "            Environment.STATUS_INVALID_MOVE: -1,\n",
        "            Environment.STATUS_WIN         : 20,\n",
        "            Environment.STATUS_TIE         : 15,\n",
        "            Environment.STATUS_LOSE        : -10\n",
        "    }[status]\n",
        "\n",
        "def train(policy, env, gamma=1.0, log_interval=1000):\n",
        "    \"\"\"Train policy gradient.\"\"\"\n",
        "    #optimizer = optim.Adam(policy.parameters(), lr=0.001)\n",
        "    #scheduler = torch.optim.lr_scheduler.StepLR(optimizer, step_size=10000, gamma=0.9)\n",
        "    optimizer = optim.Adam(policy.parameters(), lr=0.0001)\n",
        "    scheduler = torch.optim.lr_scheduler.StepLR(\n",
        "            optimizer, step_size=10000, gamma=0.9)\n",
        "    running_reward = 0\n",
        "\n",
        "    # ADDED VARIABLES\n",
        "    EPOCHS = 55000\n",
        "    batch_size = 10\n",
        "    avg = [] \n",
        "\n",
        "    for i_episode in range(EPOCHS):\n",
        "        saved_rewards = []\n",
        "        saved_logprobs = []\n",
        "        state = env.reset()\n",
        "        done = False\n",
        "        while not done:\n",
        "            action, logprob = select_action(policy, state)\n",
        "            state, status, done = env.play_against_random(action)\n",
        "            reward = get_reward(status)\n",
        "            saved_logprobs.append(logprob)\n",
        "            saved_rewards.append(reward)\n",
        "\n",
        "        R = compute_returns(saved_rewards)[0]\n",
        "        running_reward += R\n",
        "\n",
        "        finish_episode(saved_rewards, saved_logprobs, gamma)\n",
        "\n",
        "        if i_episode % log_interval == 0:\n",
        "            print('Episode {}\\tAverage return: {:.2f}'.format(\n",
        "                i_episode,\n",
        "                running_reward / log_interval))\n",
        "            avg.append(running_reward / log_interval)\n",
        "            running_reward = 0\n",
        "\n",
        "        if i_episode % (log_interval) == 0:\n",
        "            torch.save(policy.state_dict(),\n",
        "                       \"policy-%d.pkl\" % i_episode)\n",
        "\n",
        "        if i_episode % 1 == 0: # batch_size\n",
        "        #if i_episode % batch_size:\n",
        "            optimizer.step()\n",
        "            scheduler.step()\n",
        "            optimizer.zero_grad()\n",
        "    \n",
        "    print()\n",
        "    print(\"Best:\", max(avg))\n",
        "    print(\"Mean:\", np.mean(avg))\n",
        "    print()\n",
        "    \n",
        "    plt.title(\"Episodes vs Average\")\n",
        "    plt.plot(avg, label=\"Average\")\n",
        "    plt.xlabel(\"Episodes(k)\")\n",
        "    plt.ylabel(\"Average\")\n",
        "    plt.legend(loc='best')\n",
        "    plt.show()\n",
        "\n",
        "    \n",
        "\n",
        "def first_move_distr(policy, env):\n",
        "    \"\"\"Display the distribution of first moves.\"\"\"\n",
        "    state = env.reset()\n",
        "    state = torch.from_numpy(state).long().unsqueeze(0)\n",
        "    state = torch.zeros(3,9).scatter_(0,state,1).view(1,27)\n",
        "    pr = policy(Variable(state))\n",
        "    return pr.data\n",
        "\n",
        "\n",
        "def load_weights(policy, episode):\n",
        "    \"\"\"Load saved weights\"\"\"\n",
        "    weights = torch.load(\"policy-%d.pkl\" % episode)\n",
        "    policy.load_state_dict(weights)\n",
        "\n"
      ]
    },
    {
      "cell_type": "markdown",
      "source": [
        "# **Part1: Environment**"
      ],
      "metadata": {
        "id": "1Ff9egacAru4"
      }
    },
    {
      "cell_type": "markdown",
      "source": [
        ">How is the grid represented? \n",
        "- The grid is represented as an empty array. Thereby the positions where a player make moves are indexed with 0~8. \n",
        "\n",
        ">What do the attributes turn and done represent?\n",
        "- The 'turn' represents which player will make a move.  \n",
        "- 'done' is there to check if the game has terminated. Either there is a winner or there is a tie, however the game is over. "
      ],
      "metadata": {
        "id": "g3BSyqXxAIyO"
      }
    },
    {
      "cell_type": "code",
      "source": [
        "'''\n",
        "Create a new environment, and play a game of Tic-Tac-Toe against yourself \n",
        "by calling the step(), and render() methods. Display the text output in your report.\n",
        "'''\n",
        "if __name__ == '__main__':\n",
        "    env = Environment()\n",
        "\n",
        "    env.render()\n",
        "    print(\"\\n\")\n",
        "    env.step(4)\n",
        "    env.render()\n",
        "    print(\"\\n\")\n",
        "\n",
        "    env.step(2)\n",
        "    env.render()\n",
        "    print(\"\\n\")\n",
        "\n",
        "    env.step(8)\n",
        "    env.render()\n",
        "    print(\"\\n\")\n",
        "\n",
        "    env.step(3)\n",
        "    env.render()\n",
        "    print(\"\\n\")\n",
        "    \n",
        "    env.step(0)\n",
        "    env.render()\n",
        "    print(\"\\n\")\n",
        "\n",
        "    print(\"There is a winner?\",env.check_win())\n"
      ],
      "metadata": {
        "colab": {
          "base_uri": "https://localhost:8080/"
        },
        "id": "zLb0S4mt6d-i",
        "outputId": "3148c1ee-3544-43f9-a191-4c3c04fc1d43"
      },
      "execution_count": null,
      "outputs": [
        {
          "output_type": "stream",
          "name": "stdout",
          "text": [
            "...\n",
            "...\n",
            "...\n",
            "====\n",
            "\n",
            "\n",
            "...\n",
            ".x.\n",
            "...\n",
            "====\n",
            "\n",
            "\n",
            "..o\n",
            ".x.\n",
            "...\n",
            "====\n",
            "\n",
            "\n",
            "..o\n",
            ".x.\n",
            "..x\n",
            "====\n",
            "\n",
            "\n",
            "..o\n",
            "ox.\n",
            "..x\n",
            "====\n",
            "\n",
            "\n",
            "x.o\n",
            "ox.\n",
            "..x\n",
            "====\n",
            "\n",
            "\n",
            "There is a winner? True\n"
          ]
        }
      ]
    },
    {
      "cell_type": "markdown",
      "source": [
        "#**Part2: Policy**\n"
      ],
      "metadata": {
        "id": "huhodAcxA5dv"
      }
    },
    {
      "cell_type": "markdown",
      "source": [
        "**Part 2(a)**<br>\n",
        ">The Policy class is incomplete. Complete the implementation so that your policy is a neural network with one hidden layer. **[checked]** \n",
        "\n",
        "<br>**Part 2(b)**<br> \n",
        ">Tic-Tac-Toe has a 3x3 grid. However there are three possible states: x player, o player, and an empty board. Therfore for the three different states each get the 3x3 grid. As a result there are 3x3x3, 27 dimensions. \n",
        "\n",
        "<br>**Part 2(c)**<br>\n",
        ">Each dimension of the output 9-dimensional vector represents the 9 different positions on the 3x3 game board of Tic-Tac-Toe. The 9-dimentional output vector is the new position of the current player after it's move. \n",
        "\n",
        ">This policy is Stochastic. "
      ],
      "metadata": {
        "id": "vBfW-Eb1TcJg"
      }
    },
    {
      "cell_type": "markdown",
      "source": [
        "# **Part3: Policy Gradient**"
      ],
      "metadata": {
        "id": "UxG6POx0ILAZ"
      }
    },
    {
      "cell_type": "code",
      "source": [
        "'''\n",
        "Part3 (a)\n",
        "'''\n",
        "ret = compute_returns([0,0,0,1], 1.0)\n",
        "print(ret)\n",
        "# provided solution: [1.0, 1.0, 1.0, 1.0]\n",
        "\n",
        "ret = compute_returns([0,0,0,1], 0.9)\n",
        "print(ret)\n",
        "# provided solution: [0.7290000000000001, 0.81, 0.9, 1.0]\n",
        "\n",
        "ret = compute_returns([0,-0.5, 5, 0.5,-10], 0.9)\n",
        "print(ret)\n",
        "# provided solution: [-2.5965000000000003, -2.8850000000000002, -2.6500000000000004, -8.5, -10.0]"
      ],
      "metadata": {
        "colab": {
          "base_uri": "https://localhost:8080/"
        },
        "id": "fxZ-aTP0GapV",
        "outputId": "c76cd128-7617-404b-ebf2-683588b95647"
      },
      "execution_count": null,
      "outputs": [
        {
          "output_type": "stream",
          "name": "stdout",
          "text": [
            "[1.0, 1.0, 1.0, 1.0]\n",
            "[0.7290000000000001, 0.81, 0.9, 1.0]\n",
            "[-2.5965000000000003, -2.8850000000000002, -2.6500000000000004, -8.5, -10.0]\n"
          ]
        }
      ]
    },
    {
      "cell_type": "markdown",
      "source": [
        "**part3 (b)**\n",
        "<br>\n",
        "\n",
        ">We cannot compute the backward pass to update weights until the entire episode is complete. This is because we need to observe the whole squence of the actions before updating the weights. For the games like Tic-Tac-Toe, We do not know what the optimal is after each action. Only after the entire episode, depending on the win or lose, the model can learn. "
      ],
      "metadata": {
        "id": "Q49Ua-AzUU66"
      }
    },
    {
      "cell_type": "markdown",
      "source": [
        "# **PART4: Rewards**"
      ],
      "metadata": {
        "id": "pM83P6L_XHab"
      }
    },
    {
      "cell_type": "markdown",
      "source": [
        "Part 4(a) <br>\n",
        "\n",
        "Modify the get_reward function to what you think the reward should be to be able to train the policy to play Tic-Tac-Toe.\n",
        "\n",
        "**[checked]**"
      ],
      "metadata": {
        "id": "ubsuCm_3Ys5A"
      }
    },
    {
      "cell_type": "markdown",
      "source": [
        "Part 4(b) <br>\n",
        "*Choosen* <br>\n",
        ">Environment.STATUS_VALID_MOVE  : 0, <br>\n",
        "Environment.STATUS_INVALID_MOVE: -1, <br>\n",
        "Environment.STATUS_WIN         : 20, <br>\n",
        "Environment.STATUS_TIE         : 15, <br>\n",
        "Environment.STATUS_LOSE        : -10 <br>\n",
        "\n",
        "I gave a negative reward (-1) for the invalid move. Through the penalty, it should learn that doing so is bad and should learn to not make invalid moves. On the otherhand, I did not reward any for the valid move because I assumed this should be the \"default\" state - being able to make a valid movements is a base requirement. Then for the training purposes, I penalized 'Lose' while I rewarded 'Tie' and 'Win'. The purpose of this lab is to use machine learning to build a model that can \"win\" the game. Therefore, to fullfill the objective, 'Lose' had to be penalized. On the other hand, 'Win' was rewarded so that the machine will learn and try to earn the positive rewards. To favoritize the 'Win', I have heavily weighted the 'Win' reward. Then by logical sense, I gave a lower reward for the 'Tie'. 'Tie' is better than the 'Lose' and also it is in a sense a 'Win' for the both players, instead of penalizing, I used soft margin to reward it. "
      ],
      "metadata": {
        "id": "7OVow1VHW9S2"
      }
    },
    {
      "cell_type": "markdown",
      "source": [
        "# **Part 5: Training**"
      ],
      "metadata": {
        "id": "a8aN7DRucwFo"
      }
    },
    {
      "cell_type": "markdown",
      "source": [
        "**Part 5 (a)**<br>\n",
        "Clearly indicate if you have changed any hyperparameters and why.<br>\n",
        ">I have decreased the learning rate to 0.0001 from 0.001. The bigger learning rate had faster training time but the graph was extra noisy with a lot of ups and downs. Therefore, I decided to make the learning rate slightly smaller since it may help the model learn more optimal set of weights while sacrifising the training time. "
      ],
      "metadata": {
        "id": "o7ldBLwLc4aW"
      }
    },
    {
      "cell_type": "code",
      "source": [
        "model = Policy()\n",
        "env = Environment()\n",
        "train(model, env)"
      ],
      "metadata": {
        "colab": {
          "base_uri": "https://localhost:8080/",
          "height": 1000
        },
        "id": "NnXnzU4dF7dH",
        "outputId": "2fac8859-2985-42d3-e330-3bcf67a78630"
      },
      "execution_count": 51,
      "outputs": [
        {
          "output_type": "stream",
          "name": "stdout",
          "text": [
            "Episode 0\tAverage return: -0.01\n",
            "Episode 1000\tAverage return: 4.31\n",
            "Episode 2000\tAverage return: 5.62\n",
            "Episode 3000\tAverage return: 4.84\n",
            "Episode 4000\tAverage return: 5.92\n",
            "Episode 5000\tAverage return: 5.79\n",
            "Episode 6000\tAverage return: 5.54\n",
            "Episode 7000\tAverage return: 4.95\n",
            "Episode 8000\tAverage return: 5.61\n",
            "Episode 9000\tAverage return: 5.03\n",
            "Episode 10000\tAverage return: 5.58\n",
            "Episode 11000\tAverage return: 5.22\n",
            "Episode 12000\tAverage return: 5.96\n",
            "Episode 13000\tAverage return: 5.19\n",
            "Episode 14000\tAverage return: 6.20\n",
            "Episode 15000\tAverage return: 5.52\n",
            "Episode 16000\tAverage return: 6.45\n",
            "Episode 17000\tAverage return: 6.99\n",
            "Episode 18000\tAverage return: 5.38\n",
            "Episode 19000\tAverage return: 6.19\n",
            "Episode 20000\tAverage return: 7.42\n",
            "Episode 21000\tAverage return: 6.41\n",
            "Episode 22000\tAverage return: 7.39\n",
            "Episode 23000\tAverage return: 6.95\n",
            "Episode 24000\tAverage return: 7.30\n",
            "Episode 25000\tAverage return: 6.94\n",
            "Episode 26000\tAverage return: 7.91\n",
            "Episode 27000\tAverage return: 7.19\n",
            "Episode 28000\tAverage return: 6.91\n",
            "Episode 29000\tAverage return: 7.15\n",
            "Episode 30000\tAverage return: 7.50\n",
            "Episode 31000\tAverage return: 7.23\n",
            "Episode 32000\tAverage return: 7.72\n",
            "Episode 33000\tAverage return: 7.49\n",
            "Episode 34000\tAverage return: 8.06\n",
            "Episode 35000\tAverage return: 8.14\n",
            "Episode 36000\tAverage return: 7.91\n",
            "Episode 37000\tAverage return: 7.72\n",
            "Episode 38000\tAverage return: 8.87\n",
            "Episode 39000\tAverage return: 7.96\n",
            "Episode 40000\tAverage return: 7.47\n",
            "Episode 41000\tAverage return: 8.94\n",
            "Episode 42000\tAverage return: 7.84\n",
            "Episode 43000\tAverage return: 8.19\n",
            "Episode 44000\tAverage return: 8.24\n",
            "Episode 45000\tAverage return: 8.26\n",
            "Episode 46000\tAverage return: 7.79\n",
            "Episode 47000\tAverage return: 8.18\n",
            "Episode 48000\tAverage return: 8.82\n",
            "Episode 49000\tAverage return: 9.08\n",
            "Episode 50000\tAverage return: 8.62\n",
            "Episode 51000\tAverage return: 8.16\n",
            "Episode 52000\tAverage return: 9.25\n",
            "Episode 53000\tAverage return: 8.65\n",
            "Episode 54000\tAverage return: 8.39\n",
            "\n",
            "Best: 9.248\n",
            "Mean: 6.951254545454546\n",
            "\n"
          ]
        },
        {
          "output_type": "display_data",
          "data": {
            "text/plain": [
              "<Figure size 432x288 with 1 Axes>"
            ],
            "image/png": "[encoded data removed]"
          },
          "metadata": {
            "needs_background": "light"
          }
        }
      ]
    },
    {
      "cell_type": "markdown",
      "source": [
        "Result Analysis(default; hidden_size=64): <br>\n",
        ">The plot is not smooth but the general ascending trend is clearly there. This indicates that the model is learning to achieve higher reward. "
      ],
      "metadata": {
        "id": "iHueWbB1gz0j"
      }
    },
    {
      "cell_type": "markdown",
      "source": [
        "**Part5(b)** <br>\n",
        ">The default hidden_size for the policy is currently 64. In the following section, I have tried to optimize the number of hidden units. First as a comparison, I attempted the hidden_size that is less than the current default hidden_size of 32. Next, I have increased the hidden_size to 128 and 256. "
      ],
      "metadata": {
        "id": "KK2r0bkddO0C"
      }
    },
    {
      "cell_type": "code",
      "source": [
        "# hidden_size=32\n",
        "model = Policy(hidden_size=32)\n",
        "env = Environment()\n",
        "train(model, env)"
      ],
      "metadata": {
        "colab": {
          "base_uri": "https://localhost:8080/",
          "height": 1000
        },
        "id": "UO-QCmgq8Uxv",
        "outputId": "17081984-0e45-4f15-aaa1-b8819630dc67"
      },
      "execution_count": 46,
      "outputs": [
        {
          "output_type": "stream",
          "name": "stdout",
          "text": [
            "Episode 0\tAverage return: 0.01\n",
            "Episode 1000\tAverage return: 5.56\n",
            "Episode 2000\tAverage return: 4.92\n",
            "Episode 3000\tAverage return: 5.03\n",
            "Episode 4000\tAverage return: 5.83\n",
            "Episode 5000\tAverage return: 5.80\n",
            "Episode 6000\tAverage return: 6.16\n",
            "Episode 7000\tAverage return: 6.08\n",
            "Episode 8000\tAverage return: 5.92\n",
            "Episode 9000\tAverage return: 6.81\n",
            "Episode 10000\tAverage return: 6.61\n",
            "Episode 11000\tAverage return: 6.64\n",
            "Episode 12000\tAverage return: 6.49\n",
            "Episode 13000\tAverage return: 6.86\n",
            "Episode 14000\tAverage return: 5.59\n",
            "Episode 15000\tAverage return: 6.97\n",
            "Episode 16000\tAverage return: 6.33\n",
            "Episode 17000\tAverage return: 7.20\n",
            "Episode 18000\tAverage return: 6.86\n",
            "Episode 19000\tAverage return: 7.15\n",
            "Episode 20000\tAverage return: 6.71\n",
            "Episode 21000\tAverage return: 6.85\n",
            "Episode 22000\tAverage return: 6.57\n",
            "Episode 23000\tAverage return: 6.35\n",
            "Episode 24000\tAverage return: 7.23\n",
            "Episode 25000\tAverage return: 6.46\n",
            "Episode 26000\tAverage return: 7.24\n",
            "Episode 27000\tAverage return: 7.83\n",
            "Episode 28000\tAverage return: 7.73\n",
            "Episode 29000\tAverage return: 7.23\n",
            "Episode 30000\tAverage return: 7.16\n",
            "Episode 31000\tAverage return: 7.90\n",
            "Episode 32000\tAverage return: 6.66\n",
            "Episode 33000\tAverage return: 7.00\n",
            "Episode 34000\tAverage return: 7.49\n",
            "Episode 35000\tAverage return: 7.97\n",
            "Episode 36000\tAverage return: 7.04\n",
            "Episode 37000\tAverage return: 7.42\n",
            "Episode 38000\tAverage return: 7.28\n",
            "Episode 39000\tAverage return: 7.51\n",
            "Episode 40000\tAverage return: 7.39\n",
            "Episode 41000\tAverage return: 7.18\n",
            "Episode 42000\tAverage return: 8.22\n",
            "Episode 43000\tAverage return: 8.07\n",
            "Episode 44000\tAverage return: 7.52\n",
            "Episode 45000\tAverage return: 7.30\n",
            "Episode 46000\tAverage return: 7.82\n",
            "Episode 47000\tAverage return: 8.49\n",
            "Episode 48000\tAverage return: 7.38\n",
            "Episode 49000\tAverage return: 7.84\n",
            "Episode 50000\tAverage return: 7.58\n",
            "Episode 51000\tAverage return: 7.96\n",
            "Episode 52000\tAverage return: 8.12\n",
            "Episode 53000\tAverage return: 7.62\n",
            "Episode 54000\tAverage return: 8.55\n",
            "\n",
            "Best: 8.548\n",
            "Mean: 6.900090909090907\n",
            "\n"
          ]
        },
        {
          "output_type": "display_data",
          "data": {
            "text/plain": [
              "<Figure size 432x288 with 1 Axes>"
            ],
            "image/png": "[encoded data removed]"
          },
          "metadata": {
            "needs_background": "light"
          }
        }
      ]
    },
    {
      "cell_type": "markdown",
      "source": [
        "Result Analysis(hidden_size=32): <br>\n",
        ">The plot is again not so smooth. Indeed it is slightly more noisy than the policy trained with 64 hidden units. Still the general ascending trend is maintained. "
      ],
      "metadata": {
        "id": "uOWut-_4sCbK"
      }
    },
    {
      "cell_type": "code",
      "source": [
        "# hidden_size=128\n",
        "model = Policy(hidden_size=128)\n",
        "env = Environment()\n",
        "train(model, env)"
      ],
      "metadata": {
        "colab": {
          "base_uri": "https://localhost:8080/",
          "height": 1000
        },
        "id": "IxVAp2CBcnoR",
        "outputId": "d2ed6046-4638-464c-cd7b-a26c14d221da"
      },
      "execution_count": null,
      "outputs": [
        {
          "output_type": "stream",
          "name": "stdout",
          "text": [
            "Episode 0\tAverage return: -0.01\n",
            "Episode 1000\tAverage return: 5.00\n",
            "Episode 2000\tAverage return: 5.50\n",
            "Episode 3000\tAverage return: 5.62\n",
            "Episode 4000\tAverage return: 5.40\n",
            "Episode 5000\tAverage return: 5.28\n",
            "Episode 6000\tAverage return: 5.71\n",
            "Episode 7000\tAverage return: 5.77\n",
            "Episode 8000\tAverage return: 5.82\n",
            "Episode 9000\tAverage return: 5.61\n",
            "Episode 10000\tAverage return: 6.40\n",
            "Episode 11000\tAverage return: 6.30\n",
            "Episode 12000\tAverage return: 5.70\n",
            "Episode 13000\tAverage return: 6.54\n",
            "Episode 14000\tAverage return: 7.30\n",
            "Episode 15000\tAverage return: 6.92\n",
            "Episode 16000\tAverage return: 6.17\n",
            "Episode 17000\tAverage return: 6.88\n",
            "Episode 18000\tAverage return: 7.74\n",
            "Episode 19000\tAverage return: 7.89\n",
            "Episode 20000\tAverage return: 7.85\n",
            "Episode 21000\tAverage return: 7.17\n",
            "Episode 22000\tAverage return: 7.91\n",
            "Episode 23000\tAverage return: 6.76\n",
            "Episode 24000\tAverage return: 7.60\n",
            "Episode 25000\tAverage return: 7.71\n",
            "Episode 26000\tAverage return: 8.19\n",
            "Episode 27000\tAverage return: 7.94\n",
            "Episode 28000\tAverage return: 8.39\n",
            "Episode 29000\tAverage return: 8.95\n",
            "Episode 30000\tAverage return: 8.66\n",
            "Episode 31000\tAverage return: 7.68\n",
            "Episode 32000\tAverage return: 8.57\n",
            "Episode 33000\tAverage return: 9.15\n",
            "Episode 34000\tAverage return: 8.42\n",
            "Episode 35000\tAverage return: 9.02\n",
            "Episode 36000\tAverage return: 8.67\n",
            "Episode 37000\tAverage return: 9.62\n",
            "Episode 38000\tAverage return: 8.53\n",
            "Episode 39000\tAverage return: 9.22\n",
            "Episode 40000\tAverage return: 8.75\n",
            "Episode 41000\tAverage return: 9.39\n",
            "Episode 42000\tAverage return: 8.60\n",
            "Episode 43000\tAverage return: 9.48\n",
            "Episode 44000\tAverage return: 9.48\n",
            "Episode 45000\tAverage return: 9.02\n",
            "Episode 46000\tAverage return: 9.53\n",
            "Episode 47000\tAverage return: 8.99\n",
            "Episode 48000\tAverage return: 9.87\n",
            "Episode 49000\tAverage return: 9.75\n",
            "Episode 50000\tAverage return: 9.87\n",
            "Episode 51000\tAverage return: 10.09\n",
            "Episode 52000\tAverage return: 9.24\n",
            "Episode 53000\tAverage return: 10.14\n",
            "Episode 54000\tAverage return: 9.26\n",
            "\n",
            "Best: 10.143\n",
            "Mean: 7.72721818181818\n",
            "\n"
          ]
        },
        {
          "output_type": "display_data",
          "data": {
            "text/plain": [
              "<Figure size 432x288 with 1 Axes>"
            ],
            "image/png": "[encoded data removed]"
          },
          "metadata": {
            "needs_background": "light"
          }
        }
      ]
    },
    {
      "cell_type": "markdown",
      "source": [
        "Result Analysis(hidden_size=128): <br>\n",
        ">The plot is still noisy. Though compared to the 32 hidden unit policy, it is less spiky. The general ascending trend is also still there. Also, comparing it to the 64 hidden unit policy model, it reaches average rewards over 10 and now 10 is included in the y axis as its range.  "
      ],
      "metadata": {
        "id": "YtQ9K_iIsmpA"
      }
    },
    {
      "cell_type": "code",
      "source": [
        "model = Policy(hidden_size=256)\n",
        "env = Environment()\n",
        "train(model, env)"
      ],
      "metadata": {
        "id": "V7aEcOH6DHBy",
        "colab": {
          "base_uri": "https://localhost:8080/",
          "height": 1000
        },
        "outputId": "e9639a49-8d45-4e0e-9edf-c05a72b9a4b6"
      },
      "execution_count": null,
      "outputs": [
        {
          "output_type": "stream",
          "name": "stdout",
          "text": [
            "Episode 0\tAverage return: 0.01\n",
            "Episode 1000\tAverage return: 5.19\n",
            "Episode 2000\tAverage return: 5.40\n",
            "Episode 3000\tAverage return: 5.98\n",
            "Episode 4000\tAverage return: 6.32\n",
            "Episode 5000\tAverage return: 6.86\n",
            "Episode 6000\tAverage return: 6.83\n",
            "Episode 7000\tAverage return: 7.45\n",
            "Episode 8000\tAverage return: 7.19\n",
            "Episode 9000\tAverage return: 8.05\n",
            "Episode 10000\tAverage return: 8.38\n",
            "Episode 11000\tAverage return: 7.84\n",
            "Episode 12000\tAverage return: 8.12\n",
            "Episode 13000\tAverage return: 8.62\n",
            "Episode 14000\tAverage return: 8.16\n",
            "Episode 15000\tAverage return: 8.84\n",
            "Episode 16000\tAverage return: 7.80\n",
            "Episode 17000\tAverage return: 8.59\n",
            "Episode 18000\tAverage return: 8.90\n",
            "Episode 19000\tAverage return: 8.39\n",
            "Episode 20000\tAverage return: 8.32\n",
            "Episode 21000\tAverage return: 8.80\n",
            "Episode 22000\tAverage return: 8.83\n",
            "Episode 23000\tAverage return: 9.40\n",
            "Episode 24000\tAverage return: 9.13\n",
            "Episode 25000\tAverage return: 8.73\n",
            "Episode 26000\tAverage return: 8.66\n",
            "Episode 27000\tAverage return: 9.26\n",
            "Episode 28000\tAverage return: 8.80\n",
            "Episode 29000\tAverage return: 9.71\n",
            "Episode 30000\tAverage return: 8.96\n",
            "Episode 31000\tAverage return: 9.04\n",
            "Episode 32000\tAverage return: 9.89\n",
            "Episode 33000\tAverage return: 9.93\n",
            "Episode 34000\tAverage return: 9.31\n",
            "Episode 35000\tAverage return: 9.69\n",
            "Episode 36000\tAverage return: 10.17\n",
            "Episode 37000\tAverage return: 9.94\n",
            "Episode 38000\tAverage return: 10.74\n",
            "Episode 39000\tAverage return: 10.18\n",
            "Episode 40000\tAverage return: 9.98\n",
            "Episode 41000\tAverage return: 10.02\n",
            "Episode 42000\tAverage return: 10.81\n",
            "Episode 43000\tAverage return: 9.64\n",
            "Episode 44000\tAverage return: 11.08\n",
            "Episode 45000\tAverage return: 10.62\n",
            "Episode 46000\tAverage return: 9.25\n",
            "Episode 47000\tAverage return: 9.81\n",
            "Episode 48000\tAverage return: 10.00\n",
            "Episode 49000\tAverage return: 9.27\n",
            "Episode 50000\tAverage return: 10.24\n",
            "Episode 51000\tAverage return: 9.25\n",
            "Episode 52000\tAverage return: 9.59\n",
            "Episode 53000\tAverage return: 9.28\n",
            "Episode 54000\tAverage return: 8.24\n",
            "\n",
            "Best: 11.082\n",
            "Mean: 8.68169090909091\n",
            "\n"
          ]
        },
        {
          "output_type": "display_data",
          "data": {
            "text/plain": [
              "<Figure size 432x288 with 1 Axes>"
            ],
            "image/png": "[encoded data removed]"
          },
          "metadata": {
            "needs_background": "light"
          }
        }
      ]
    },
    {
      "cell_type": "markdown",
      "source": [
        "Result Analysis(hidden_size=256): <br>\n",
        "> There is an interesting observation for the following plot. So far with 32, 64, and 128 hidden units, the general trend was ascending linear line. However, the average vs. episode plot for hidden_size of 256 has a concave shape. In fact this means the optimal weight was achieved by ~episode 40k. Such issue can be resolved through introduction of sliding window which if I do not see better rewards for certain number of episodes, I would stop training the model. "
      ],
      "metadata": {
        "id": "5biPMLeyuQ7d"
      }
    },
    {
      "cell_type": "markdown",
      "source": [
        "**Part5(c)** <br>\n",
        "I have modified the train function to count the number of invalid movies it makes by episode. "
      ],
      "metadata": {
        "id": "mDXgyg6teIho"
      }
    },
    {
      "cell_type": "code",
      "source": [
        "def train(policy, env, gamma=1.0, log_interval=1000):\n",
        "    \"\"\"Train policy gradient.\"\"\"\n",
        "    #optimizer = optim.Adam(policy.parameters(), lr=0.001)\n",
        "    #scheduler = torch.optim.lr_scheduler.StepLR(optimizer, step_size=10000, gamma=0.9)\n",
        "    optimizer = optim.Adam(policy.parameters(), lr=0.0001)\n",
        "    scheduler = torch.optim.lr_scheduler.StepLR(\n",
        "            optimizer, step_size=10000, gamma=0.9)\n",
        "    running_reward = 0\n",
        "\n",
        "    # ADDED VARIABLES\n",
        "    EPOCHS = 55000\n",
        "    avg = [] \n",
        "    # storing number of invalid_moves\n",
        "    invalid_moves = [] \n",
        " \n",
        "    for i_episode in range(EPOCHS):\n",
        "        invalid_move = 0\n",
        "        saved_rewards = []\n",
        "        saved_logprobs = []\n",
        "        state = env.reset()\n",
        "        done = False\n",
        "        while not done:\n",
        "            action, logprob = select_action(policy, state)\n",
        "            state, status, done = env.play_against_random(action)\n",
        "            if status == env.STATUS_INVALID_MOVE:\n",
        "              invalid_move+=1 # count incrementation\n",
        "            reward = get_reward(status)\n",
        "            saved_logprobs.append(logprob)\n",
        "            saved_rewards.append(reward)\n",
        "\n",
        "\n",
        "        R = compute_returns(saved_rewards)[0]\n",
        "        running_reward += R\n",
        "        finish_episode(saved_rewards, saved_logprobs, gamma)\n",
        "\n",
        "        if i_episode % log_interval == 0:\n",
        "            print('Episode {}\\tAverage return: {:.2f}, invalid_move_count: {}'.format(\n",
        "                i_episode,\n",
        "                running_reward / log_interval, invalid_move))\n",
        "            invalid_moves.append(invalid_move) # append to store in invalid_moves\n",
        "            avg.append(running_reward / log_interval)\n",
        "            running_reward = 0\n",
        "\n",
        "        if i_episode % (log_interval) == 0:\n",
        "            torch.save(policy.state_dict(),\n",
        "                       \"./policy-%d.pkl\" % i_episode)\n",
        "\n",
        "        if i_episode % 1 == 0: # batch_size\n",
        "            optimizer.step()\n",
        "            scheduler.step()\n",
        "            optimizer.zero_grad()\n",
        "    \n",
        "    plt.title(\"Episodes vs Invalid_moves\")\n",
        "    plt.plot(invalid_moves, label=\"Invalid_moves\")\n",
        "    plt.xlabel(\"Episodes\")\n",
        "    plt.ylabel(\"Invalid_moves\")\n",
        "    plt.legend(loc='best')\n",
        "    plt.show()"
      ],
      "metadata": {
        "id": "2wE_DfpdPsQB"
      },
      "execution_count": 32,
      "outputs": []
    },
    {
      "cell_type": "code",
      "source": [
        "train(model, env)"
      ],
      "metadata": {
        "colab": {
          "base_uri": "https://localhost:8080/",
          "height": 1000
        },
        "id": "p6qE9mFdQ2pH",
        "outputId": "14f1ec32-3593-4331-be53-2205974eb4fb"
      },
      "execution_count": 34,
      "outputs": [
        {
          "output_type": "stream",
          "name": "stdout",
          "text": [
            "Episode 0\tAverage return: 0.01, invalid_move_count: 14\n",
            "Episode 1000\tAverage return: 5.68, invalid_move_count: 7\n",
            "Episode 2000\tAverage return: 5.61, invalid_move_count: 3\n",
            "Episode 3000\tAverage return: 6.10, invalid_move_count: 13\n",
            "Episode 4000\tAverage return: 5.98, invalid_move_count: 1\n",
            "Episode 5000\tAverage return: 6.43, invalid_move_count: 0\n",
            "Episode 6000\tAverage return: 6.87, invalid_move_count: 3\n",
            "Episode 7000\tAverage return: 6.50, invalid_move_count: 0\n",
            "Episode 8000\tAverage return: 7.64, invalid_move_count: 1\n",
            "Episode 9000\tAverage return: 7.74, invalid_move_count: 4\n",
            "Episode 10000\tAverage return: 7.62, invalid_move_count: 2\n",
            "Episode 11000\tAverage return: 7.51, invalid_move_count: 1\n",
            "Episode 12000\tAverage return: 7.85, invalid_move_count: 2\n",
            "Episode 13000\tAverage return: 7.80, invalid_move_count: 1\n",
            "Episode 14000\tAverage return: 8.07, invalid_move_count: 3\n",
            "Episode 15000\tAverage return: 7.92, invalid_move_count: 2\n",
            "Episode 16000\tAverage return: 7.79, invalid_move_count: 11\n",
            "Episode 17000\tAverage return: 7.99, invalid_move_count: 10\n",
            "Episode 18000\tAverage return: 8.66, invalid_move_count: 1\n",
            "Episode 19000\tAverage return: 9.09, invalid_move_count: 7\n",
            "Episode 20000\tAverage return: 8.81, invalid_move_count: 0\n",
            "Episode 21000\tAverage return: 9.29, invalid_move_count: 6\n",
            "Episode 22000\tAverage return: 9.39, invalid_move_count: 5\n",
            "Episode 23000\tAverage return: 8.66, invalid_move_count: 2\n",
            "Episode 24000\tAverage return: 8.79, invalid_move_count: 1\n",
            "Episode 25000\tAverage return: 9.52, invalid_move_count: 18\n",
            "Episode 26000\tAverage return: 9.40, invalid_move_count: 1\n",
            "Episode 27000\tAverage return: 8.63, invalid_move_count: 0\n",
            "Episode 28000\tAverage return: 8.76, invalid_move_count: 3\n",
            "Episode 29000\tAverage return: 8.84, invalid_move_count: 3\n",
            "Episode 30000\tAverage return: 9.98, invalid_move_count: 0\n",
            "Episode 31000\tAverage return: 9.33, invalid_move_count: 3\n",
            "Episode 32000\tAverage return: 8.99, invalid_move_count: 4\n",
            "Episode 33000\tAverage return: 8.77, invalid_move_count: 1\n",
            "Episode 34000\tAverage return: 9.26, invalid_move_count: 4\n",
            "Episode 35000\tAverage return: 9.80, invalid_move_count: 1\n",
            "Episode 36000\tAverage return: 9.05, invalid_move_count: 1\n",
            "Episode 37000\tAverage return: 8.96, invalid_move_count: 5\n",
            "Episode 38000\tAverage return: 9.57, invalid_move_count: 0\n",
            "Episode 39000\tAverage return: 9.17, invalid_move_count: 1\n",
            "Episode 40000\tAverage return: 9.34, invalid_move_count: 0\n",
            "Episode 41000\tAverage return: 9.38, invalid_move_count: 2\n",
            "Episode 42000\tAverage return: 9.63, invalid_move_count: 9\n",
            "Episode 43000\tAverage return: 9.05, invalid_move_count: 0\n",
            "Episode 44000\tAverage return: 9.77, invalid_move_count: 3\n",
            "Episode 45000\tAverage return: 8.91, invalid_move_count: 0\n",
            "Episode 46000\tAverage return: 9.19, invalid_move_count: 2\n",
            "Episode 47000\tAverage return: 9.06, invalid_move_count: 1\n",
            "Episode 48000\tAverage return: 9.25, invalid_move_count: 3\n",
            "Episode 49000\tAverage return: 9.08, invalid_move_count: 2\n",
            "Episode 50000\tAverage return: 8.62, invalid_move_count: 0\n",
            "Episode 51000\tAverage return: 9.07, invalid_move_count: 4\n",
            "Episode 52000\tAverage return: 8.20, invalid_move_count: 7\n",
            "Episode 53000\tAverage return: 8.51, invalid_move_count: 1\n",
            "Episode 54000\tAverage return: 9.22, invalid_move_count: 0\n"
          ]
        },
        {
          "output_type": "display_data",
          "data": {
            "text/plain": [
              "<Figure size 432x288 with 1 Axes>"
            ],
            "image/png": "[encoded data removed]"
          },
          "metadata": {
            "needs_background": "light"
          }
        }
      ]
    },
    {
      "cell_type": "markdown",
      "source": [
        "Similar to how the averages were calculated and plotted, the number of invalid movies were counted each episodes and were stored in an array. Throughout the training process, the invalid move counts were printed. Then in the end, they were plotted for visual representation. \n",
        "\n",
        "The graph is very noisy but tracing either the troughs or the crests, the general descending trend can be observed. This indicates that the machine is learning to not make valid moves. By Episode 26000, the invalid move count seemed to stay fairly low. "
      ],
      "metadata": {
        "id": "l5hLX4b0lX89"
      }
    },
    {
      "cell_type": "markdown",
      "source": [
        "**Part 5(d)** <br>\n"
      ],
      "metadata": {
        "id": "lkFv534_k9mY"
      }
    },
    {
      "cell_type": "code",
      "source": [
        "def load_weights(policy, episode):\n",
        "    \"\"\"Load saved weights\"\"\"\n",
        "    weights = torch.load(\"policy-%d.pkl\" % episode)\n",
        "    policy.load_state_dict(weights)"
      ],
      "metadata": {
        "id": "cXqBUEFh96gE"
      },
      "execution_count": 58,
      "outputs": []
    },
    {
      "cell_type": "code",
      "source": [
        "#initialize\n",
        "win_count = 0\n",
        "ties_count = 0\n",
        "lose_count = 0\n",
        "env = Environment()\n",
        "\n",
        "#referenced the code from training\n",
        "for i in range(100):\n",
        "  state = env.reset()\n",
        "  done = False\n",
        "  while not done:\n",
        "    action, logprob = select_action(model, state)\n",
        "    state, status, done = env.play_against_random(action)\n",
        "\n",
        "  #display last five games\n",
        "  if i>=95: \n",
        "    env.render()\n",
        "    print(status)\n",
        "    print()\n",
        "\n",
        "  #update count\n",
        "  if status == env.STATUS_WIN:\n",
        "    win_count+=1\n",
        "  elif status == env.STATUS_TIE:\n",
        "    ties_count+=1\n",
        "  else:\n",
        "    lose_count+=1\n",
        "  \n",
        "\n",
        "print()\n",
        "print(\"Num of total_wins:\", win_count)\n",
        "print(\"Num of total_ties:\", ties_count)\n",
        "print(\"Num of total_loses:\", lose_count)\n",
        "\n"
      ],
      "metadata": {
        "id": "dRBWdH76eG2X",
        "colab": {
          "base_uri": "https://localhost:8080/"
        },
        "outputId": "6bd255f5-0ea8-40dd-f29c-6b916eb32a6e"
      },
      "execution_count": 91,
      "outputs": [
        {
          "output_type": "stream",
          "name": "stdout",
          "text": [
            "xoo\n",
            "xxo\n",
            "oxx\n",
            "====\n",
            "win\n",
            "\n",
            "xxo\n",
            "oxx\n",
            "oxo\n",
            "====\n",
            "win\n",
            "\n",
            "x.x\n",
            "ooo\n",
            "xxo\n",
            "====\n",
            "lose\n",
            "\n",
            "oxx\n",
            ".x.\n",
            "oxo\n",
            "====\n",
            "win\n",
            "\n",
            "x.o\n",
            ".x.\n",
            ".ox\n",
            "====\n",
            "win\n",
            "\n",
            "\n",
            "Num of total_wins: 64\n",
            "Num of total_ties: 8\n",
            "Num of total_loses: 28\n"
          ]
        }
      ]
    },
    {
      "cell_type": "markdown",
      "source": [
        "I believe one strategy that my agent has learned is to take the very center on the game board. This is a great strategy in a Tic-Tac-Toe game. "
      ],
      "metadata": {
        "id": "2jmIcIXE7_WF"
      }
    },
    {
      "cell_type": "markdown",
      "source": [
        "# **Part 6**"
      ],
      "metadata": {
        "id": "8MD_UycuB2E5"
      }
    },
    {
      "cell_type": "code",
      "source": [
        "#initialize\n",
        "win_count = 0\n",
        "ties_count = 0\n",
        "lose_count = 0\n",
        "\n",
        "win_rates = []\n",
        "ties_rates = []\n",
        "lose_rates = []\n",
        "\n",
        "env = Environment()\n",
        "\n",
        "#referenced the code from training\n",
        "for i in range(50):\n",
        "  state = env.reset()\n",
        "  done = False\n",
        "  # the load function somehow complicated the colab so straight up copied the code\n",
        "  weights = torch.load(\"policy-%d.pkl\" % (i*1000))\n",
        "  model.load_state_dict(weights)\n",
        "  while not done:\n",
        "    action, logprob = select_action(model, state)\n",
        "    state, status, done = env.play_against_random(action)\n",
        "\n",
        "  #display last five games\n",
        "  if i>=95: \n",
        "    env.render()\n",
        "    print(status)\n",
        "    print()\n",
        "\n",
        "  #update count\n",
        "  if status == env.STATUS_WIN:\n",
        "    win_count+=1\n",
        "  elif status == env.STATUS_TIE:\n",
        "    ties_count+=1\n",
        "  else:\n",
        "    lose_count+=1\n",
        "  \n",
        "  win_rate = win_count/(win_count+ties_count+lose_count)\n",
        "  win_rates.append(win_rate)\n",
        "\n",
        "  ties_rate = ties_count/(win_count+ties_count+lose_count)\n",
        "  ties_rates.append(ties_rate)\n",
        "\n",
        "  lose_rate = lose_count/(win_count+ties_count+lose_count)\n",
        "  lose_rates.append(lose_rate)\n",
        "  print('Game {}\\t Win_rate {:.2f}, Ties_rate: {:.2f}, Lose_rate: {:.2f}'.format(\n",
        "                i,win_rate, ties_rate, lose_rate))\n",
        "\n",
        "print()\n",
        "plt.title(\"Episodes vs Rates\")\n",
        "plt.plot(win_rates, label=\"win_rates\")\n",
        "plt.plot(ties_rates, label=\"ties_rates\")\n",
        "plt.plot(lose_rates, label=\"lose_rates\")\n",
        "plt.xlabel(\"Episodes\")\n",
        "plt.ylabel(\"Rates\")\n",
        "plt.legend(loc='best')\n",
        "plt.show()\n",
        "\n"
      ],
      "metadata": {
        "colab": {
          "base_uri": "https://localhost:8080/",
          "height": 1000
        },
        "id": "7zsy7eLUB0bh",
        "outputId": "8157cf47-a951-4655-b1d1-5a3699c34a78"
      },
      "execution_count": 106,
      "outputs": [
        {
          "output_type": "stream",
          "name": "stdout",
          "text": [
            "Game 0\t Win_rate 0.00, Ties_rate: 0.00, Lose_rate: 1.00\n",
            "Game 1\t Win_rate 0.00, Ties_rate: 0.00, Lose_rate: 1.00\n",
            "Game 2\t Win_rate 0.33, Ties_rate: 0.00, Lose_rate: 0.67\n",
            "Game 3\t Win_rate 0.25, Ties_rate: 0.00, Lose_rate: 0.75\n",
            "Game 4\t Win_rate 0.40, Ties_rate: 0.00, Lose_rate: 0.60\n",
            "Game 5\t Win_rate 0.33, Ties_rate: 0.00, Lose_rate: 0.67\n",
            "Game 6\t Win_rate 0.43, Ties_rate: 0.00, Lose_rate: 0.57\n",
            "Game 7\t Win_rate 0.50, Ties_rate: 0.00, Lose_rate: 0.50\n",
            "Game 8\t Win_rate 0.44, Ties_rate: 0.11, Lose_rate: 0.44\n",
            "Game 9\t Win_rate 0.40, Ties_rate: 0.10, Lose_rate: 0.50\n",
            "Game 10\t Win_rate 0.45, Ties_rate: 0.09, Lose_rate: 0.45\n",
            "Game 11\t Win_rate 0.50, Ties_rate: 0.08, Lose_rate: 0.42\n",
            "Game 12\t Win_rate 0.46, Ties_rate: 0.08, Lose_rate: 0.46\n",
            "Game 13\t Win_rate 0.50, Ties_rate: 0.07, Lose_rate: 0.43\n",
            "Game 14\t Win_rate 0.53, Ties_rate: 0.07, Lose_rate: 0.40\n",
            "Game 15\t Win_rate 0.50, Ties_rate: 0.12, Lose_rate: 0.38\n",
            "Game 16\t Win_rate 0.53, Ties_rate: 0.12, Lose_rate: 0.35\n",
            "Game 17\t Win_rate 0.56, Ties_rate: 0.11, Lose_rate: 0.33\n",
            "Game 18\t Win_rate 0.58, Ties_rate: 0.11, Lose_rate: 0.32\n",
            "Game 19\t Win_rate 0.60, Ties_rate: 0.10, Lose_rate: 0.30\n",
            "Game 20\t Win_rate 0.62, Ties_rate: 0.10, Lose_rate: 0.29\n",
            "Game 21\t Win_rate 0.64, Ties_rate: 0.09, Lose_rate: 0.27\n",
            "Game 22\t Win_rate 0.61, Ties_rate: 0.09, Lose_rate: 0.30\n",
            "Game 23\t Win_rate 0.58, Ties_rate: 0.12, Lose_rate: 0.29\n",
            "Game 24\t Win_rate 0.60, Ties_rate: 0.12, Lose_rate: 0.28\n",
            "Game 25\t Win_rate 0.62, Ties_rate: 0.12, Lose_rate: 0.27\n",
            "Game 26\t Win_rate 0.59, Ties_rate: 0.15, Lose_rate: 0.26\n",
            "Game 27\t Win_rate 0.61, Ties_rate: 0.14, Lose_rate: 0.25\n",
            "Game 28\t Win_rate 0.62, Ties_rate: 0.14, Lose_rate: 0.24\n",
            "Game 29\t Win_rate 0.60, Ties_rate: 0.13, Lose_rate: 0.27\n",
            "Game 30\t Win_rate 0.61, Ties_rate: 0.13, Lose_rate: 0.26\n",
            "Game 31\t Win_rate 0.62, Ties_rate: 0.12, Lose_rate: 0.25\n",
            "Game 32\t Win_rate 0.64, Ties_rate: 0.12, Lose_rate: 0.24\n",
            "Game 33\t Win_rate 0.65, Ties_rate: 0.12, Lose_rate: 0.24\n",
            "Game 34\t Win_rate 0.66, Ties_rate: 0.11, Lose_rate: 0.23\n",
            "Game 35\t Win_rate 0.64, Ties_rate: 0.11, Lose_rate: 0.25\n",
            "Game 36\t Win_rate 0.62, Ties_rate: 0.11, Lose_rate: 0.27\n",
            "Game 37\t Win_rate 0.61, Ties_rate: 0.11, Lose_rate: 0.29\n",
            "Game 38\t Win_rate 0.62, Ties_rate: 0.10, Lose_rate: 0.28\n",
            "Game 39\t Win_rate 0.60, Ties_rate: 0.10, Lose_rate: 0.30\n",
            "Game 40\t Win_rate 0.61, Ties_rate: 0.10, Lose_rate: 0.29\n",
            "Game 41\t Win_rate 0.60, Ties_rate: 0.10, Lose_rate: 0.31\n",
            "Game 42\t Win_rate 0.60, Ties_rate: 0.09, Lose_rate: 0.30\n",
            "Game 43\t Win_rate 0.59, Ties_rate: 0.09, Lose_rate: 0.32\n",
            "Game 44\t Win_rate 0.58, Ties_rate: 0.11, Lose_rate: 0.31\n",
            "Game 45\t Win_rate 0.57, Ties_rate: 0.11, Lose_rate: 0.33\n",
            "Game 46\t Win_rate 0.55, Ties_rate: 0.11, Lose_rate: 0.34\n",
            "Game 47\t Win_rate 0.56, Ties_rate: 0.10, Lose_rate: 0.33\n",
            "Game 48\t Win_rate 0.57, Ties_rate: 0.10, Lose_rate: 0.33\n",
            "Game 49\t Win_rate 0.58, Ties_rate: 0.10, Lose_rate: 0.32\n",
            "\n"
          ]
        },
        {
          "output_type": "display_data",
          "data": {
            "text/plain": [
              "<Figure size 432x288 with 1 Axes>"
            ],
            "image/png": "[encoded data removed]"
          },
          "metadata": {
            "needs_background": "light"
          }
        }
      ]
    },
    {
      "cell_type": "markdown",
      "source": [
        ">As shown in the graph above, the win_rates goes up while the lose_rates goes down. The ties_rates seem to go up slightly. There is a strong trade off between win_rates and lose_rates. This tells that the model is learning to \"win\" the game."
      ],
      "metadata": {
        "id": "A-GHdt9NEXOi"
      }
    },
    {
      "cell_type": "markdown",
      "source": [
        "#**Part 7: First Move Distirbution over Episodes**<br>\n"
      ],
      "metadata": {
        "id": "XqgkkHBDUcxs"
      }
    },
    {
      "cell_type": "code",
      "source": [
        "print(first_move_distr(model, env))"
      ],
      "metadata": {
        "colab": {
          "base_uri": "https://localhost:8080/"
        },
        "id": "WtS34D0SQOIA",
        "outputId": "fe966569-99cb-412a-8d45-2d023964bb99"
      },
      "execution_count": 100,
      "outputs": [
        {
          "output_type": "stream",
          "name": "stdout",
          "text": [
            "tensor([[0.6286, 0.0940, 0.3537, 0.1529, 0.8758, 0.1560, 0.5365, 0.1084, 0.3671]])\n"
          ]
        }
      ]
    },
    {
      "cell_type": "markdown",
      "source": [
        ">I believe the dristribution makes sense. The distribution is the highest for position 4. On a 3x3 grid this is the center box. This is a well known strategy in playing a Tic-Tac-Toe that placing on the middle box is the best move on can take. This allows both defense and attack in all direction that this is the best position to play. The machine has learned and implemented it."
      ],
      "metadata": {
        "id": "SxlKOkObLbZp"
      }
    },
    {
      "cell_type": "markdown",
      "source": [
        "\n",
        "#**Part 8: Limitations** <br>\n",
        "\n",
        ">My agent plays fairly well against a random policy. However, it does not perform so well when it does not have the center. This is also reflected in one lose case from the five printed game boards. Due to its high favoritism for the center, it has the strategy studied when that is the case. However, when the center is taken by the other player, it does not perform as well. \n"
      ],
      "metadata": {
        "id": "TGTh4vUHUj-R"
      }
    }
  ]
}